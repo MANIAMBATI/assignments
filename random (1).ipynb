{
 "cells": [
  {
   "cell_type": "code",
   "execution_count": 1,
   "id": "943086b7-1cbd-47c4-8c0f-f1c61d2cd7ff",
   "metadata": {},
   "outputs": [
    {
     "name": "stdout",
     "output_type": "stream",
     "text": [
      "  Prepare a model for glass classification using Random Forest\n",
      "0                                  Data Description:          \n",
      "1                              RI : refractive index          \n",
      "2  Na: Sodium (unit measurement: weight percent i...          \n",
      "3                                      Mg: Magnesium          \n",
      "4                                       AI: Aluminum          \n",
      "Prepare a model for glass classification using Random Forest    object\n",
      "dtype: object\n"
     ]
    }
   ],
   "source": [
    "import pandas as pd\n",
    "\n",
    "# Load the dataset\n",
    "glass_df = pd.read_excel('C:\\\\Users\\\\sai\\\\OneDrive\\\\Documents\\\\glass.xlsx')\n",
    "\n",
    "# Display the first few rows of the dataset\n",
    "print(glass_df.head())\n",
    "\n",
    "# Check data types and for any non-numeric columns\n",
    "print(glass_df.dtypes)\n"
   ]
  },
  {
   "cell_type": "code",
   "execution_count": 3,
   "id": "ff8a5e08-0f18-461b-b74c-60bb31241dc6",
   "metadata": {},
   "outputs": [
    {
     "name": "stdout",
     "output_type": "stream",
     "text": [
      "Prepare a model for glass classification using Random Forest    1\n",
      "dtype: int64\n"
     ]
    }
   ],
   "source": [
    "# Check for missing values\n",
    "print(glass_df.isnull().sum())\n"
   ]
  },
  {
   "cell_type": "code",
   "execution_count": 5,
   "id": "85bf3e61-39f8-4039-a2f7-28e192159227",
   "metadata": {},
   "outputs": [
    {
     "data": {
      "text/plain": [
       "<Figure size 1200x800 with 0 Axes>"
      ]
     },
     "metadata": {},
     "output_type": "display_data"
    }
   ],
   "source": [
    "import matplotlib.pyplot as plt\n",
    "import seaborn as sns\n",
    "\n",
    "# Visualize outliers with box plots\n",
    "plt.figure(figsize=(12, 8))\n",
    "for i, column in enumerate(glass_df.select_dtypes(include=[float, int]).columns):\n",
    "    plt.subplot(4, 4, i+1)  # Adjust subplot dimensions based on number of features\n",
    "    sns.boxplot(data=glass_df, x=column)\n",
    "    plt.title(column)\n",
    "plt.tight_layout()\n",
    "plt.show()\n"
   ]
  },
  {
   "cell_type": "code",
   "execution_count": 9,
   "id": "66634296-4b94-47a3-8bd4-e7f83c02d3ca",
   "metadata": {},
   "outputs": [
    {
     "name": "stdout",
     "output_type": "stream",
     "text": [
      "Numeric columns detected:\n",
      "Index([], dtype='object')\n",
      "No numeric columns available for plotting histograms.\n"
     ]
    }
   ],
   "source": [
    "numeric_columns = glass_df.select_dtypes(include=['float64', 'int64']).columns\n",
    "\n",
    "print(\"Numeric columns detected:\")\n",
    "print(numeric_columns)\n",
    "\n",
    "# Check if there are any numeric columns to plot\n",
    "if len(numeric_columns) > 0:\n",
    "    # Plot histograms for each numeric column\n",
    "    glass_df[numeric_columns].hist(figsize=(15, 10), bins=15, edgecolor='black')\n",
    "    plt.suptitle('Histograms of Numerical Features')\n",
    "    plt.show()\n",
    "else:\n",
    "    print(\"No numeric columns available for plotting histograms.\")"
   ]
  },
  {
   "cell_type": "code",
   "execution_count": 13,
   "id": "0a8c0c75-5df6-4d0f-8dcf-94b7981d8796",
   "metadata": {},
   "outputs": [
    {
     "name": "stdout",
     "output_type": "stream",
     "text": [
      "No numeric columns available for plotting histograms.\n",
      "Correlation matrix is empty.\n"
     ]
    }
   ],
   "source": [
    "if not numeric_columns.empty:\n",
    "    # Plot histograms for each numeric column\n",
    "    glass_df[numeric_columns].hist(figsize=(15, 10), bins=15, edgecolor='black')\n",
    "    plt.suptitle('Histograms of Numerical Features')\n",
    "    plt.show()\n",
    "else:\n",
    "    print(\"No numeric columns available for plotting histograms.\")\n",
    "\n",
    "# Check for empty correlation matrix\n",
    "correlation_matrix = glass_df[numeric_columns].corr()\n",
    "if correlation_matrix.empty:\n",
    "    print(\"Correlation matrix is empty.\")\n",
    "else:\n",
    "    plt.figure(figsize=(12, 8))\n",
    "    sns.heatmap(correlation_matrix, annot=True, cmap='coolwarm', fmt='.2f')\n",
    "    plt.title('Correlation Matrix')\n",
    "    plt.show()"
   ]
  },
  {
   "cell_type": "code",
   "execution_count": 19,
   "id": "0d3d0e36-0085-4380-8a9e-7e6f58ad4c10",
   "metadata": {},
   "outputs": [
    {
     "name": "stdout",
     "output_type": "stream",
     "text": [
      "No missing values to impute.\n",
      "Correlation matrix is empty.\n",
      "No data available for pair plots.\n"
     ]
    }
   ],
   "source": [
    "if glass_df[numeric_columns].isna().sum().sum() > 0:\n",
    "    imputer = SimpleImputer(strategy='mean')\n",
    "    glass_df[numeric_columns] = imputer.fit_transform(glass_df[numeric_columns])\n",
    "else:\n",
    "    print(\"No missing values to impute.\")\n",
    "\n",
    "\n",
    "# Generate and plot correlation matrix\n",
    "correlation_matrix = glass_df[numeric_columns].corr()\n",
    "if not correlation_matrix.empty:\n",
    "    plt.figure(figsize=(12, 8))\n",
    "    sns.heatmap(correlation_matrix, annot=True, cmap='coolwarm', fmt='.2f')\n",
    "    plt.title('Correlation Matrix')\n",
    "    plt.show()\n",
    "else:\n",
    "    print(\"Correlation matrix is empty.\")\n",
    "\n",
    "# Display pair plots\n",
    "if not glass_df[numeric_columns].empty:\n",
    "    sns.pairplot(glass_df[numeric_columns])\n",
    "    plt.suptitle('Pair Plots of Numerical Features', y=1.02)\n",
    "    plt.show()\n",
    "else:\n",
    "    print(\"No data available for pair plots.\")"
   ]
  },
  {
   "cell_type": "code",
   "execution_count": 29,
   "id": "6acec586-b083-4a36-8c7d-dad6680f1250",
   "metadata": {},
   "outputs": [
    {
     "name": "stdout",
     "output_type": "stream",
     "text": [
      "Column names and data types:\n",
      "Prepare a model for glass classification using Random Forest    object\n",
      "dtype: object\n",
      "Categorical columns: Index(['Prepare a model for glass classification using Random Forest'], dtype='object')\n",
      "Some columns to drop do not exist.\n"
     ]
    }
   ],
   "source": [
    "import pandas as pd\n",
    "\n",
    "# Load the dataset\n",
    "file_path = r'C:\\Users\\sai\\OneDrive\\Documents\\glass.xlsx'\n",
    "glass_df = pd.read_excel(file_path)\n",
    "\n",
    "# Display column names and data types\n",
    "print(\"Column names and data types:\")\n",
    "print(glass_df.dtypes)\n",
    "\n",
    "# Identify categorical columns\n",
    "categorical_columns = glass_df.select_dtypes(include=['object']).columns\n",
    "print(\"Categorical columns:\", categorical_columns)\n",
    "\n",
    "# Apply one-hot encoding if there are categorical columns\n",
    "if len(categorical_columns) > 0:\n",
    "    from sklearn.preprocessing import OneHotEncoder\n",
    "    from sklearn.compose import ColumnTransformer\n",
    "    from sklearn.pipeline import Pipeline\n",
    "\n",
    "    preprocessor = ColumnTransformer(\n",
    "        transformers=[\n",
    "            ('cat', OneHotEncoder(), categorical_columns)\n",
    "        ],\n",
    "        remainder='passthrough'\n",
    "    )\n",
    "\n",
    "    # Transform the data\n",
    "    X = preprocessor.fit_transform(glass_df)\n",
    "else:\n",
    "    print(\"No categorical columns to encode.\")\n",
    "\n",
    "# Example of dropping columns\n",
    "columns_to_drop = ['column1', 'column2']  # Replace with actual column names\n",
    "if all(col in glass_df.columns for col in columns_to_drop):\n",
    "    glass_df = glass_df.drop(columns=columns_to_drop)\n",
    "else:\n",
    "    print(\"Some columns to drop do not exist.\")\n"
   ]
  },
  {
   "cell_type": "code",
   "execution_count": null,
   "id": "ad15bb73-4ff3-4ee3-aab9-298db9b732a8",
   "metadata": {},
   "outputs": [],
   "source": []
  }
 ],
 "metadata": {
  "kernelspec": {
   "display_name": "Python 3 (ipykernel)",
   "language": "python",
   "name": "python3"
  },
  "language_info": {
   "codemirror_mode": {
    "name": "ipython",
    "version": 3
   },
   "file_extension": ".py",
   "mimetype": "text/x-python",
   "name": "python",
   "nbconvert_exporter": "python",
   "pygments_lexer": "ipython3",
   "version": "3.11.7"
  }
 },
 "nbformat": 4,
 "nbformat_minor": 5
}
