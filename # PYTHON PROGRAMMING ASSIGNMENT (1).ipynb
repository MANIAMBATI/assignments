{
 "cells": [
  {
   "cell_type": "markdown",
   "id": "f6d5ff90-089c-476a-9f34-bcbe6b11973b",
   "metadata": {},
   "source": [
    "# Prime Numbers"
   ]
  },
  {
   "cell_type": "code",
   "execution_count": 1,
   "id": "2e5a0447-09eb-4b57-a41d-486f2a2a0997",
   "metadata": {},
   "outputs": [
    {
     "name": "stdout",
     "output_type": "stream",
     "text": [
      "Is 17 prime? True\n",
      "Is 15 prime? False\n",
      "\n"
     ]
    }
   ],
   "source": [
    "def is_prime(num):\n",
    "    \"\"\"Function to check if a number is prime.\"\"\"\n",
    "    if num <= 1:\n",
    "        return False\n",
    "    if num == 2:\n",
    "        return True  # 2 is a prime number\n",
    "    if num % 2 == 0:\n",
    "        return False  # Any even number > 2 is not prime\n",
    "    \n",
    "    # Check for factors from 3 up to the square root of num\n",
    "    sqrt_num = int(num**0.5) + 1\n",
    "    for i in range(3, sqrt_num, 2):\n",
    "        if num % i == 0:\n",
    "            return False\n",
    "    return True\n",
    "# Test the function\n",
    "test_number = 17\n",
    "print(f\"Is {test_number} prime? {is_prime(test_number)}\")  # True\n",
    "print(f\"Is 15 prime? {is_prime(15)}\")  # False\n",
    "print()\n"
   ]
  },
  {
   "cell_type": "markdown",
   "id": "88b7584a-3160-457f-9aff-ab2289f5c47b",
   "metadata": {},
   "source": [
    "# Product of Random Numbers\n"
   ]
  },
  {
   "cell_type": "code",
   "execution_count": 2,
   "id": "b5bb9bae-236e-41fb-b558-b3cf9760c740",
   "metadata": {},
   "outputs": [
    {
     "name": "stdin",
     "output_type": "stream",
     "text": [
      "What is 2 * 10?  20\n"
     ]
    },
    {
     "name": "stdout",
     "output_type": "stream",
     "text": [
      "Correct!\n",
      "\n"
     ]
    }
   ],
   "source": [
    "import random\n",
    "\n",
    "def generate_and_check():\n",
    "    \"\"\"Function to generate two random numbers, ask user for their product,\n",
    "    and check if the answer is correct.\"\"\"\n",
    "    num1 = random.randint(1, 10)\n",
    "    num2 = random.randint(1, 10)\n",
    "    \n",
    "    product = num1 * num2\n",
    "    \n",
    "    user_answer = int(input(f\"What is {num1} * {num2}? \"))\n",
    "    \n",
    "    if user_answer == product:\n",
    "        print(\"Correct!\")\n",
    "    else:\n",
    "        print(f\"Wrong! The correct answer is {product}\")\n",
    "\n",
    "# Test the function\n",
    "generate_and_check()\n",
    "print()"
   ]
  },
  {
   "cell_type": "markdown",
   "id": "e13e37c8-a434-4c24-822b-e5cdf6bfc299",
   "metadata": {},
   "source": [
    "# Squares of Even/Odd Numbers"
   ]
  },
  {
   "cell_type": "code",
   "execution_count": null,
   "id": "01a71a41-0cc7-4c01-b5f7-03016ecfd99d",
   "metadata": {},
   "outputs": [],
   "source": [
    "def squares_of_even_or_odd(even=True):\n",
    "    \"\"\"Function to print squares of even or odd numbers in range 100 to 200.\"\"\"\n",
    "    print(f\"Squares of {'even' if even else 'odd'} numbers:\")\n",
    "    for num in range(100, 201):\n",
    "        if (num % 2 == 0) == even:\n",
    "            print(f\"{num} squared is {num ** 2}\")\n",
    "# Test the function for even numbers\n",
    "squares_of_even_or_odd(even=True)\n",
    "print()"
   ]
  }
 ],
 "metadata": {
  "kernelspec": {
   "display_name": "Python 3 (ipykernel)",
   "language": "python",
   "name": "python3"
  },
  "language_info": {
   "codemirror_mode": {
    "name": "ipython",
    "version": 3
   },
   "file_extension": ".py",
   "mimetype": "text/x-python",
   "name": "python",
   "nbconvert_exporter": "python",
   "pygments_lexer": "ipython3",
   "version": "3.11.7"
  }
 },
 "nbformat": 4,
 "nbformat_minor": 5
}
