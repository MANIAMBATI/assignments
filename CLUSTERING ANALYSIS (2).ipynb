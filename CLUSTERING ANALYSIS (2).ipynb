{
 "cells": [
  {
   "cell_type": "code",
   "execution_count": 71,
   "id": "ffc20341-5005-46fb-bfda-bb59c84d3921",
   "metadata": {},
   "outputs": [],
   "source": [
    "#import libraries\n",
    "import pandas as pd\n",
    "import numpy as np\n",
    "import random as rd\n",
    "import matplotlib.pyplot as plt\n",
    "%matplotlib inline\n",
    "from sklearn.cluster import KMeans"
   ]
  },
  {
   "cell_type": "code",
   "execution_count": 75,
   "id": "f9aaa2dd-793b-4d0f-ab99-33de6f2edf84",
   "metadata": {},
   "outputs": [
    {
     "data": {
      "text/html": [
       "<div>\n",
       "<style scoped>\n",
       "    .dataframe tbody tr th:only-of-type {\n",
       "        vertical-align: middle;\n",
       "    }\n",
       "\n",
       "    .dataframe tbody tr th {\n",
       "        vertical-align: top;\n",
       "    }\n",
       "\n",
       "    .dataframe thead th {\n",
       "        text-align: right;\n",
       "    }\n",
       "</style>\n",
       "<table border=\"1\" class=\"dataframe\">\n",
       "  <thead>\n",
       "    <tr style=\"text-align: right;\">\n",
       "      <th></th>\n",
       "      <th>East-West Airlines is trying to learn more about its customers.  Key issues are their</th>\n",
       "      <th>Unnamed: 1</th>\n",
       "      <th>Unnamed: 2</th>\n",
       "      <th>Unnamed: 3</th>\n",
       "      <th>Unnamed: 4</th>\n",
       "    </tr>\n",
       "  </thead>\n",
       "  <tbody>\n",
       "    <tr>\n",
       "      <th>0</th>\n",
       "      <td>flying patterns, earning and use of frequent f...</td>\n",
       "      <td>NaN</td>\n",
       "      <td>NaN</td>\n",
       "      <td>NaN</td>\n",
       "      <td>NaN</td>\n",
       "    </tr>\n",
       "    <tr>\n",
       "      <th>1</th>\n",
       "      <td>card.  The task is to identify customer segmen...</td>\n",
       "      <td>NaN</td>\n",
       "      <td>NaN</td>\n",
       "      <td>NaN</td>\n",
       "      <td>NaN</td>\n",
       "    </tr>\n",
       "    <tr>\n",
       "      <th>2</th>\n",
       "      <td>NaN</td>\n",
       "      <td>NaN</td>\n",
       "      <td>NaN</td>\n",
       "      <td>NaN</td>\n",
       "      <td>NaN</td>\n",
       "    </tr>\n",
       "    <tr>\n",
       "      <th>3</th>\n",
       "      <td>NaN</td>\n",
       "      <td>NaN</td>\n",
       "      <td>NaN</td>\n",
       "      <td>NaN</td>\n",
       "      <td>NaN</td>\n",
       "    </tr>\n",
       "    <tr>\n",
       "      <th>4</th>\n",
       "      <td>Source: Based upon real business data; company...</td>\n",
       "      <td>NaN</td>\n",
       "      <td>NaN</td>\n",
       "      <td>NaN</td>\n",
       "      <td>NaN</td>\n",
       "    </tr>\n",
       "  </tbody>\n",
       "</table>\n",
       "</div>"
      ],
      "text/plain": [
       "  East-West Airlines is trying to learn more about its customers.  Key issues are their  \\\n",
       "0  flying patterns, earning and use of frequent f...                                      \n",
       "1  card.  The task is to identify customer segmen...                                      \n",
       "2                                                NaN                                      \n",
       "3                                                NaN                                      \n",
       "4  Source: Based upon real business data; company...                                      \n",
       "\n",
       "  Unnamed: 1 Unnamed: 2 Unnamed: 3 Unnamed: 4  \n",
       "0        NaN        NaN        NaN        NaN  \n",
       "1        NaN        NaN        NaN        NaN  \n",
       "2        NaN        NaN        NaN        NaN  \n",
       "3        NaN        NaN        NaN        NaN  \n",
       "4        NaN        NaN        NaN        NaN  "
      ]
     },
     "execution_count": 75,
     "metadata": {},
     "output_type": "execute_result"
    }
   ],
   "source": [
    "# reading the data and looking at the first five rows of the data\n",
    "data=pd.read_excel(r\"C:\\Users\\sai\\OneDrive\\Documents\\EastWestAirlines.xlsx\")\n",
    "data.head()"
   ]
  },
  {
   "cell_type": "code",
   "execution_count": 77,
   "id": "ca598fa3-ce67-493f-9758-bd9964c75394",
   "metadata": {},
   "outputs": [
    {
     "data": {
      "text/plain": [
       "East-West Airlines is trying to learn more about its customers.  Key issues are their    18\n",
       "Unnamed: 1                                                                                3\n",
       "Unnamed: 2                                                                                3\n",
       "Unnamed: 3                                                                                3\n",
       "Unnamed: 4                                                                               18\n",
       "dtype: int64"
      ]
     },
     "execution_count": 77,
     "metadata": {},
     "output_type": "execute_result"
    }
   ],
   "source": [
    "data.nunique()"
   ]
  },
  {
   "cell_type": "code",
   "execution_count": 79,
   "id": "d94528b0-9048-4da8-bc74-74d6c01800fc",
   "metadata": {},
   "outputs": [
    {
     "data": {
      "text/plain": [
       "(26, 5)"
      ]
     },
     "execution_count": 79,
     "metadata": {},
     "output_type": "execute_result"
    }
   ],
   "source": [
    "data.shape"
   ]
  },
  {
   "cell_type": "code",
   "execution_count": 81,
   "id": "68bbaccc-096b-48bd-8048-bb4a7dc03395",
   "metadata": {},
   "outputs": [
    {
     "data": {
      "text/html": [
       "<div>\n",
       "<style scoped>\n",
       "    .dataframe tbody tr th:only-of-type {\n",
       "        vertical-align: middle;\n",
       "    }\n",
       "\n",
       "    .dataframe tbody tr th {\n",
       "        vertical-align: top;\n",
       "    }\n",
       "\n",
       "    .dataframe thead th {\n",
       "        text-align: right;\n",
       "    }\n",
       "</style>\n",
       "<table border=\"1\" class=\"dataframe\">\n",
       "  <thead>\n",
       "    <tr style=\"text-align: right;\">\n",
       "      <th></th>\n",
       "      <th>East-West Airlines is trying to learn more about its customers.  Key issues are their</th>\n",
       "      <th>Unnamed: 1</th>\n",
       "      <th>Unnamed: 2</th>\n",
       "      <th>Unnamed: 3</th>\n",
       "      <th>Unnamed: 4</th>\n",
       "    </tr>\n",
       "  </thead>\n",
       "  <tbody>\n",
       "    <tr>\n",
       "      <th>count</th>\n",
       "      <td>18</td>\n",
       "      <td>13</td>\n",
       "      <td>6</td>\n",
       "      <td>13</td>\n",
       "      <td>18</td>\n",
       "    </tr>\n",
       "    <tr>\n",
       "      <th>unique</th>\n",
       "      <td>18</td>\n",
       "      <td>3</td>\n",
       "      <td>3</td>\n",
       "      <td>3</td>\n",
       "      <td>18</td>\n",
       "    </tr>\n",
       "    <tr>\n",
       "      <th>top</th>\n",
       "      <td>flying patterns, earning and use of frequent f...</td>\n",
       "      <td>NUMBER</td>\n",
       "      <td>1</td>\n",
       "      <td>Raw</td>\n",
       "      <td>Description</td>\n",
       "    </tr>\n",
       "    <tr>\n",
       "      <th>freq</th>\n",
       "      <td>1</td>\n",
       "      <td>9</td>\n",
       "      <td>3</td>\n",
       "      <td>9</td>\n",
       "      <td>1</td>\n",
       "    </tr>\n",
       "  </tbody>\n",
       "</table>\n",
       "</div>"
      ],
      "text/plain": [
       "       East-West Airlines is trying to learn more about its customers.  Key issues are their  \\\n",
       "count                                                  18                                      \n",
       "unique                                                 18                                      \n",
       "top     flying patterns, earning and use of frequent f...                                      \n",
       "freq                                                    1                                      \n",
       "\n",
       "       Unnamed: 1  Unnamed: 2 Unnamed: 3   Unnamed: 4  \n",
       "count          13           6         13           18  \n",
       "unique          3           3          3           18  \n",
       "top        NUMBER           1        Raw  Description  \n",
       "freq            9           3          9            1  "
      ]
     },
     "execution_count": 81,
     "metadata": {},
     "output_type": "execute_result"
    }
   ],
   "source": [
    "# statistics of the data\n",
    "data.describe()"
   ]
  },
  {
   "cell_type": "code",
   "execution_count": 99,
   "id": "60668da6-26e8-4cdb-b981-10dd4f955a9b",
   "metadata": {},
   "outputs": [
    {
     "name": "stdout",
     "output_type": "stream",
     "text": [
      "East-West Airlines is trying to learn more about its customers.  Key issues are their     8\n",
      "Unnamed: 1                                                                               13\n",
      "Unnamed: 2                                                                               20\n",
      "Unnamed: 3                                                                               13\n",
      "Unnamed: 4                                                                                8\n",
      "dtype: int64\n",
      "East-West Airlines is trying to learn more about its customers.  Key issues are their    object\n",
      "Unnamed: 1                                                                               object\n",
      "Unnamed: 2                                                                               object\n",
      "Unnamed: 3                                                                               object\n",
      "Unnamed: 4                                                                               object\n",
      "dtype: object\n"
     ]
    }
   ],
   "source": [
    "import pandas as pd\n",
    "from sklearn.preprocessing import StandardScaler\n",
    "scaler = StandardScaler()\n",
    "print(data.isnull().sum())\n",
    "print(data.dtypes)\n",
    "data = data.apply(pd.to_numeric, errors='coerce')\n"
   ]
  },
  {
   "cell_type": "code",
   "execution_count": 193,
   "id": "d06967a6-745a-446b-af17-987f9b0eb5cc",
   "metadata": {},
   "outputs": [
    {
     "name": "stdout",
     "output_type": "stream",
     "text": [
      "    East-West Airlines is trying to learn more about its customers.  Key issues are their  \\\n",
      "0                                                 NaN                                       \n",
      "1                                                 NaN                                       \n",
      "2                                                 NaN                                       \n",
      "3                                                 NaN                                       \n",
      "4                                                 NaN                                       \n",
      "5                                                 NaN                                       \n",
      "6                                                 NaN                                       \n",
      "7                                                 NaN                                       \n",
      "8                                                 NaN                                       \n",
      "9                                                 NaN                                       \n",
      "10                                                NaN                                       \n",
      "11                                                NaN                                       \n",
      "12                                                NaN                                       \n",
      "13                                                NaN                                       \n",
      "14                                                NaN                                       \n",
      "15                                                NaN                                       \n",
      "16                                                NaN                                       \n",
      "17                                                NaN                                       \n",
      "18                                                NaN                                       \n",
      "19                                                NaN                                       \n",
      "20                                                NaN                                       \n",
      "21                                                NaN                                       \n",
      "22                                                NaN                                       \n",
      "23                                                NaN                                       \n",
      "24                                                NaN                                       \n",
      "25                                                NaN                                       \n",
      "\n",
      "    Unnamed: 1  Unnamed: 2  Unnamed: 3  Unnamed: 4  \n",
      "0          NaN         NaN         NaN         NaN  \n",
      "1          NaN         NaN         NaN         NaN  \n",
      "2          NaN         NaN         NaN         NaN  \n",
      "3          NaN         NaN         NaN         NaN  \n",
      "4          NaN         NaN         NaN         NaN  \n",
      "5          NaN         NaN         NaN         NaN  \n",
      "6          NaN         NaN         NaN         NaN  \n",
      "7          NaN         NaN         NaN         NaN  \n",
      "8          NaN         NaN         NaN         NaN  \n",
      "9          NaN         NaN         NaN         NaN  \n",
      "10         NaN    1.224745         NaN         NaN  \n",
      "11         NaN    1.224745         NaN         NaN  \n",
      "12         NaN   -0.816497         NaN         NaN  \n",
      "13         NaN   -0.816497         NaN         NaN  \n",
      "14         NaN   -0.816497         NaN         NaN  \n",
      "15         NaN         NaN         NaN         NaN  \n",
      "16         NaN         NaN         NaN         NaN  \n",
      "17         NaN         NaN         NaN         NaN  \n",
      "18         NaN         NaN         NaN         NaN  \n",
      "19         NaN         NaN         NaN         NaN  \n",
      "20         NaN         NaN         NaN         NaN  \n",
      "21         NaN         NaN         NaN         NaN  \n",
      "22         NaN         NaN         NaN         NaN  \n",
      "23         NaN         NaN         NaN         NaN  \n",
      "24         NaN         NaN         NaN         NaN  \n",
      "25         NaN         NaN         NaN         NaN  \n"
     ]
    }
   ],
   "source": [
    "# standardizing the data\n",
    "from sklearn.preprocessing import StandardScaler\n",
    "scaler = StandardScaler()\n",
    "data_scaled = scaler.fit_transform(df)\n",
    "\n",
    "# Convert the scaled data to a DataFrame and describe it\n",
    "df_scaled = pd.DataFrame(data_scaled, columns=df.columns)\n",
    "print(df_scaled)"
   ]
  },
  {
   "cell_type": "code",
   "execution_count": 198,
   "id": "2f70d3b8-280a-44b3-bd97-310617763daa",
   "metadata": {},
   "outputs": [
    {
     "data": {
      "text/plain": [
       "<seaborn.axisgrid.PairGrid at 0x1e43a1d7c10>"
      ]
     },
     "execution_count": 198,
     "metadata": {},
     "output_type": "execute_result"
    },
    {
     "data": {
      "image/png": "[encoded data removed]",
      "text/plain": [
       "<Figure size 1250x1250 with 30 Axes>"
      ]
     },
     "metadata": {},
     "output_type": "display_data"
    }
   ],
   "source": [
    "import seaborn as sns\n",
    "sns.pairplot(data)"
   ]
  },
  {
   "cell_type": "code",
   "execution_count": 200,
   "id": "ff459080-2cc8-4743-a979-20c0d361fea3",
   "metadata": {},
   "outputs": [],
   "source": [
    "import warnings\n",
    "warnings.filterwarnings('ignore')"
   ]
  },
  {
   "cell_type": "code",
   "execution_count": 220,
   "id": "e1894ea4-d700-4467-aee5-3acd7e97d7d1",
   "metadata": {},
   "outputs": [
    {
     "name": "stdout",
     "output_type": "stream",
     "text": [
      "NaN values detected in scaled data. Handling NaNs.\n",
      "Cluster Centers:\n",
      " [[-0.10206207]\n",
      " [ 1.22474487]]\n",
      "Labels:\n",
      " [0 0 0 0 0 0 0 0 0 0 1 1 0 0 0 0 0 0 0 0 0 0 0 0 0 0]\n"
     ]
    }
   ],
   "source": [
    "import pandas as pd\n",
    "import numpy as np\n",
    "from sklearn.preprocessing import StandardScaler\n",
    "from sklearn.cluster import KMeans\n",
    "from scipy import stats\n",
    "\n",
    "# Load the dataset\n",
    "file_path = r\"C:\\Users\\sai\\OneDrive\\Documents\\EastWestAirlines.xlsx\"\n",
    "\n",
    "# Data Preprocessing\n",
    "# Handle missing values\n",
    "numeric_cols = df.select_dtypes(include=[np.number]).columns\n",
    "df[numeric_cols] = df[numeric_cols].fillna(df[numeric_cols].mean())\n",
    "df = df.apply(lambda x: x.fillna(x.mean()) if x.dtype.kind in 'bifc' else x)\n",
    "\n",
    "# Remove outliers\n",
    "z_scores = np.abs(stats.zscore(df.select_dtypes(include=[np.number])))\n",
    "df = df[(z_scores < 3).all(axis=1)]\n",
    "\n",
    "# Scale the features\n",
    "scaler = StandardScaler()\n",
    "df_scaled =pd.DataFrame(data_scaled, columns=df.columns)\n",
    "\n",
    "# Check for NaNs in scaled data\n",
    "if np.any(np.isnan(df_scaled)):\n",
    "    print(\"NaN values detected in scaled data. Handling NaNs.\")\n",
    "    # Impute NaNs if any (though ideally, they should not be present if preprocessing was done correctly)\n",
    "    from sklearn.impute import SimpleImputer\n",
    "    imputer = SimpleImputer(strategy='mean')\n",
    "    df_scaled = imputer.fit_transform(df_scaled)\n",
    "\n",
    "# Define the K-Means model with initialization method as K-Means++\n",
    "kmeans = KMeans(n_clusters=2, init='k-means++', n_init='auto', random_state=42)\n",
    "\n",
    "# Fit the K-Means model on the scaled data\n",
    "kmeans.fit(df_scaled)\n",
    "\n",
    "# Retrieve cluster centers and labels\n",
    "cluster_centers = kmeans.cluster_centers_\n",
    "labels = kmeans.labels_\n",
    "\n",
    "print(\"Cluster Centers:\\n\", cluster_centers)\n",
    "print(\"Labels:\\n\", labels)\n"
   ]
  },
  {
   "cell_type": "code",
   "execution_count": 224,
   "id": "32e166ec-f95d-4db2-958c-27f18b9760a6",
   "metadata": {},
   "outputs": [
    {
     "data": {
      "text/plain": [
       "Text(0, 0.5, 'SSE')"
      ]
     },
     "execution_count": 224,
     "metadata": {},
     "output_type": "execute_result"
    },
    {
     "data": {
      "image/png": "[encoded data removed]",
      "text/plain": [
       "<Figure size 1200x600 with 1 Axes>"
      ]
     },
     "metadata": {},
     "output_type": "display_data"
    }
   ],
   "source": [
    "# fitting multiple k-means algorithms and storing the values in an empty list\n",
    "SSE = []\n",
    "for k in range(1,21):\n",
    "    kmeans = KMeans(n_clusters=2, init='k-means++', n_init='auto', random_state=42)\n",
    "    kmeans.fit(df_scaled)\n",
    "    SSE.append(kmeans.inertia_)\n",
    "# print(SSE)\n",
    "# converting the results into a dataframe and plotting them\n",
    "frame = pd.DataFrame({'Cluster':range(1,21), 'SSE':SSE})\n",
    "plt.figure(figsize=(12,6))\n",
    "plt.plot(frame['Cluster'], frame['SSE'], marker='*')\n",
    "plt.xlabel('Number of clusters')\n",
    "plt.ylabel('SSE')"
   ]
  },
  {
   "cell_type": "code",
   "execution_count": 226,
   "id": "19e00280-e090-48c0-b4cf-180a088e0819",
   "metadata": {},
   "outputs": [
    {
     "name": "stdout",
     "output_type": "stream",
     "text": [
      "2.0000000000000018\n"
     ]
    },
    {
     "data": {
      "text/plain": [
       "array([0, 1, 2])"
      ]
     },
     "execution_count": 226,
     "metadata": {},
     "output_type": "execute_result"
    }
   ],
   "source": [
    "# k means using 6 clusters and k-means++ initialization\n",
    "kmeans = KMeans(n_clusters = 6, init='random',n_init = 'auto')\n",
    "kmeans.fit(df_scaled)\n",
    "print(kmeans.inertia_)\n",
    "y_pred = kmeans.fit_predict(df_scaled)\n",
    "np.unique(y_pred)"
   ]
  },
  {
   "cell_type": "code",
   "execution_count": 246,
   "id": "44270e6b-c738-4bf7-ad13-f16913407c4b",
   "metadata": {},
   "outputs": [
    {
     "name": "stdout",
     "output_type": "stream",
     "text": [
      "Shape of df_scaled: (26, 1)\n"
     ]
    }
   ],
   "source": [
    "import matplotlib.pyplot as plt\n",
    "\n",
    "# Check the shape of df_scaled to ensure correct indexing\n",
    "print(\"Shape of df_scaled:\", df_scaled.shape)\n",
    "\n",
    "# Example of correct plotting with available features\n",
    "# Assuming df_scaled has only 2 features after scaling\n",
    "if df_scaled.shape[1] == 2:\n",
    "    plt.figure(figsize=(7,5))\n",
    "    plt.scatter(df_scaled[y_pred == 0, 0], df_scaled[y_pred == 0, 1], s=50, c='y', label='Cluster 0')\n",
    "    plt.scatter(df_scaled[y_pred == 1, 0], df_scaled[y_pred == 1, 1], s=50, c='g', label='Cluster 1')\n",
    "    plt.scatter(df_scaled[y_pred == 2, 0], df_scaled[y_pred == 2, 1], s=50, c='b', label='Cluster 2')\n",
    "    # Add more clusters as needed\n",
    "    plt.xlabel('Feature 1')\n",
    "    plt.ylabel('Feature 2')\n",
    "    plt.title('Clusters Visualization')\n",
    "    plt.legend()\n",
    "    plt.show()\n"
   ]
  },
  {
   "cell_type": "code",
   "execution_count": null,
   "id": "92fc6bba-3943-4e77-bb87-293c0a45ebbb",
   "metadata": {},
   "outputs": [],
   "source": []
  }
 ],
 "metadata": {
  "kernelspec": {
   "display_name": "Python 3 (ipykernel)",
   "language": "python",
   "name": "python3"
  },
  "language_info": {
   "codemirror_mode": {
    "name": "ipython",
    "version": 3
   },
   "file_extension": ".py",
   "mimetype": "text/x-python",
   "name": "python",
   "nbconvert_exporter": "python",
   "pygments_lexer": "ipython3",
   "version": "3.11.7"
  }
 },
 "nbformat": 4,
 "nbformat_minor": 5
}
